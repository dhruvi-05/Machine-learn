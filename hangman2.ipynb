{
 "cells": [
  {
   "cell_type": "code",
   "execution_count": null,
   "id": "dc92d40c",
   "metadata": {},
   "outputs": [
    {
     "name": "stdout",
     "output_type": "stream",
     "text": [
      "Welcome to Hangman\n",
      "\n",
      "\n"
     ]
    }
   ],
   "source": [
    "def hangman(word):\n",
    "    wrong = 0\n",
    "    stages = [\"\",\n",
    "              \"________ \",\n",
    "              \"    |   \",\n",
    "              \"    0   \",\n",
    "              \"   /|\\  \",\n",
    "              \"   / \\   \",\n",
    "              \"  \"\n",
    "             ]\n",
    "    rletters = list(word)\n",
    "    board = [\"__\"] * len(word)\n",
    "    win = False\n",
    "    \n",
    "    print(\"Welcome to Hangman\")\n",
    "    \n",
    "    while wrong < len(stages) - 1:\n",
    "        print(\"\\n\")\n",
    "        msg = \"Guess a letter: \"\n",
    "        char = input(msg)\n",
    "        \n",
    "        if char in rletters:\n",
    "            cind = rletters.index(char)\n",
    "            board[cind] = char\n",
    "            rletters[cind] = ' '\n",
    "        else:\n",
    "            wrong += 1\n",
    "        \n",
    "        print(\" \".join(board))\n",
    "        e = wrong + 1\n",
    "        print(\"\\n\".join(stages[0: e]))\n",
    "        \n",
    "        if \"__\" not in board:\n",
    "            print(\"You win!\")\n",
    "            print(\" \".join(board))\n",
    "            win = True\n",
    "            break\n",
    "    \n",
    "    if not win:\n",
    "        print(\"\\n\".join(stages[0: wrong]))\n",
    "        print(\"You lose! The word was {}.\".format(word))\n",
    "hangman(\"hangman\")\n"
   ]
  },
  {
   "cell_type": "code",
   "execution_count": null,
   "id": "32113179",
   "metadata": {},
   "outputs": [],
   "source": []
  }
 ],
 "metadata": {
  "kernelspec": {
   "display_name": "Python 3 (ipykernel)",
   "language": "python",
   "name": "python3"
  },
  "language_info": {
   "codemirror_mode": {
    "name": "ipython",
    "version": 3
   },
   "file_extension": ".py",
   "mimetype": "text/x-python",
   "name": "python",
   "nbconvert_exporter": "python",
   "pygments_lexer": "ipython3",
   "version": "3.11.5"
  }
 },
 "nbformat": 4,
 "nbformat_minor": 5
}
